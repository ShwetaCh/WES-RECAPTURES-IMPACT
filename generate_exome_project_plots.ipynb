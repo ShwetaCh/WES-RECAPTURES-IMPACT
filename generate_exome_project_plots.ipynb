{
 "cells": [
  {
   "cell_type": "markdown",
   "metadata": {},
   "source": [
    "**Generates plot of signature concordance**"
   ]
  },
  {
   "cell_type": "code",
   "execution_count": 2,
   "metadata": {},
   "outputs": [],
   "source": [
    "import sys\n",
    "import argparse\n",
    "import os\n",
    "import pandas as pd\n",
    "import numpy as np\n",
    "import re\n",
    "import math\n",
    "\n",
    "from collections import Counter\n",
    "#pathPrefix = '/Users/friedman/Desktop/mnt'\n",
    "#sys.path.append(pathPrefix + '/ifs/work/taylorlab/friedman/myUtils')\n",
    "#import analysis_utils \n",
    "#import mutationSigUtils"
   ]
  },
  {
   "cell_type": "markdown",
   "metadata": {},
   "source": [
    "## FIGURE 3A"
   ]
  },
  {
   "cell_type": "code",
   "execution_count": null,
   "metadata": {},
   "outputs": [],
   "source": [
    "#30 SIGS VERSION\n",
    "stratonSpectra = pd.read_table(pathPrefix + '/ifs/work/taylorlab/friedman/noahFirstProject/signature_sig_copy/mutation-signatures/Stratton_signatures30.txt')\n",
    "listOfDicts = []\n",
    "oneBinFrac = 1.0/96 \n",
    "stronglyFavoredFrac = .1\n",
    "for signature in stratonSpectra.index:\n",
    "    row = stratonSpectra[stratonSpectra.index == signature]\n",
    "    nGreaterThanFrac = sum([1 if i > oneBinFrac else 0 for i in row.values[0]])\n",
    "    fracStronglyFavored = sum([i if i > stronglyFavoredFrac else 0 for i in row.values[0]])\n",
    "    listOfDicts.append({'Signature': signature, 'nbin/96': nGreaterThanFrac, 'fracStronglyFavored': fracStronglyFavored})\n",
    "df = pd.DataFrame(listOfDicts) \n",
    "df.to_csv('/Users/friedman/Desktop/exomeProjectHelp/sigBinsInfo.tsv', index=False, sep='\\t') "
   ]
  },
  {
   "cell_type": "code",
   "execution_count": null,
   "metadata": {},
   "outputs": [],
   "source": [
    "#60 SIGS VERSION\n",
    "v3Spectra = pd.read_csv('/Users/friedman/Desktop/exomeProjectHelp/sigProfiler_exome_SBS_signatures.csv')\n",
    "listOfDicts = []\n",
    "oneBinFrac = 1.0/96 \n",
    "stronglyFavoredFrac = .1\n",
    "for signature in set(v3Spectra.columns.values) - set(['Type', 'SubType']):\n",
    "    col = list(v3Spectra[signature])\n",
    "    nGreaterThanFrac = sum([1 if i > oneBinFrac else 0 for i in col])\n",
    "    fracStronglyFavored = sum([i if i > stronglyFavoredFrac else 0 for i in col])\n",
    "    listOfDicts.append({'Signature': signature, 'nbin/96': nGreaterThanFrac, 'fracStronglyFavored': fracStronglyFavored})\n",
    "df = pd.DataFrame(listOfDicts) \n",
    "df.to_csv('/Users/friedman/Desktop/exomeProjectHelp/sigBinsInfo60Sigs.tsv', index=False, sep='\\t') \n"
   ]
  },
  {
   "cell_type": "markdown",
   "metadata": {},
   "source": [
    "## FIGURE 3B"
   ]
  },
  {
   "cell_type": "code",
   "execution_count": 12,
   "metadata": {},
   "outputs": [],
   "source": [
    "#These functions format the data as needed for plotting\n",
    "\n",
    "#EXPANDS THE COLUMNS AS NEEDED\n",
    "def expand_df(df, mode):\n",
    "    listOfDicts = []\n",
    "    for index, row in df.iterrows():\n",
    "        #localD = {\n",
    "        #    'Tumor_Sample_Barcode': row['Tumor_Sample_Barcode'], 'CMOID':row['CMOID'], 'TMBExome': row['TMBExome'], 'TMBIMPACT': row['TMBIMPACT'], 'MSIIMPACT': row['MSIIMPACT'], 'MSIExome': row['MSIExome'],\n",
    "        #    'SigIMPACTPresent':row['SigIMPACTPresent'], 'SigWESPresent':row['SigWESPresent'], 'Cancer_Type':row['Cancer_Type']\n",
    "        #}\n",
    "        localD = {\n",
    "            'Tumor_Sample_Barcode': row['Tumor_Sample_Barcode'], 'DMP':row['DMP'],\n",
    "            'TMB': row['TMB'], 'Cancer_Type':row['Cancer_Type_Aggregate'],\n",
    "            'type': row['type']\n",
    "        }\n",
    "        \n",
    "        if not isinstance(row['impactSig'], float):\n",
    "            impactSigsSplit = row['impactSig'].split(',')\n",
    "\n",
    "            #['Insufficient_Mutations']\n",
    "            if len(impactSigsSplit) > 1:\n",
    "                for sig in impactSigsSplit:\n",
    "                    sigName = sig.split(':')[0].strip(' ')\n",
    "                    fraction = float(sig.split(':')[1].split('|')[0]) #SAVE THE FRACTION\n",
    "                    confidence = float(sig.split(':')[1].split('|')[1]) #SAVE THE CONFIDENCE\n",
    "                    localD['impactSig_' + sigName] = fraction\n",
    "                    localD['impactConfidence_' + sigName] = confidence\n",
    "                    localD['insufficientImpactMutBurden'] = False\n",
    "        else:\n",
    "            localD['insufficientImpactMutBurden'] = True\n",
    "        \n",
    "        if not isinstance(row['exomeSig'], float):\n",
    "            exomeSigsSplit = row['exomeSig'].split(',')\n",
    "            if len(exomeSigsSplit) > 1:\n",
    "                for sig in exomeSigsSplit:\n",
    "                    sigName = sig.split(':')[0].strip(' ')\n",
    "\n",
    "                    frac, conf = sig.split(':')[1].split('|')\n",
    "                    #TODO test for NA\n",
    "\n",
    "                    if frac == ' NA': frac = 0  \n",
    "                    if conf == ' NA': conf = 0\n",
    "\n",
    "                    fraction = float(frac)\n",
    "                    confidence = float(conf) #SAVE THE CONFIDENCE\n",
    "                    localD['exomeSig_' + sigName] = fraction\n",
    "                    localD['exomeConfidence_' + sigName] = confidence\n",
    "                localD['insufficientExomeMutBurden'] = False  \n",
    "            else:\n",
    "                localD['insufficientExomeMutBurden'] = True\n",
    "        else:\n",
    "            localD['insufficientExomeMutBurden'] = True\n",
    "        listOfDicts.append(localD)\n",
    "    df = pd.DataFrame(listOfDicts)\n",
    "    \n",
    "    #MERGE SIGNATURE COLUMNS AS I LIKE:\n",
    "    if mode == '30sigs':\n",
    "        df['impactSig_AID/APOBEC'] = df['impactSig_AID/APOBEC_2'] + df['impactSig_AID/APOBEC_13']\n",
    "        df['exomeSig_AID/APOBEC'] = df['exomeSig_AID/APOBEC_2'] + df['exomeSig_AID/APOBEC_13']\n",
    "\n",
    "        df['impactSig_MMR/MSI'] = df['impactSig_MMR/MSI_20'] + df['impactSig_MMR/MSI_15'] + df['impactSig_MMR/MSI_21'] + df['impactSig_MMR/MSI_26'] + df['impactSig_MMR/MSI_6']\n",
    "        df['exomeSig_MMR/MSI'] = df['exomeSig_MMR/MSI_20'] + df['exomeSig_MMR/MSI_15'] + df['exomeSig_MMR/MSI_21'] + df['exomeSig_MMR/MSI_26'] + df['exomeSig_MMR/MSI_6']\n",
    "\n",
    "        df = df.drop(['impactSig_AID/APOBEC_2', 'impactSig_AID/APOBEC_13',\n",
    "                      'exomeSig_AID/APOBEC_2', 'exomeSig_AID/APOBEC_13',\n",
    "                      'impactSig_MMR/MSI_20', 'impactSig_MMR/MSI_15', 'impactSig_MMR/MSI_21', 'impactSig_MMR/MSI_26', 'impactSig_MMR/MSI_6',\n",
    "                      'exomeSig_MMR/MSI_20', 'exomeSig_MMR/MSI_15', 'exomeSig_MMR/MSI_21', 'exomeSig_MMR/MSI_26', 'exomeSig_MMR/MSI_6'],\n",
    "                      axis=1)\n",
    "    #adjust it according to 60 sig rule    \n",
    "    else:\n",
    "        #rename some signatures\n",
    "        df['impactSig_BRCA1/2'] = df['impactSig_SBS3'] \n",
    "        df['exomeSig_BRCA1/2'] = df['exomeSig_SBS3'] \n",
    "        \n",
    "        df['impactSig_Aging'] = df['impactSig_SBS1'] \n",
    "        df['exomeSig_Aging'] = df['exomeSig_SBS1'] \n",
    "        \n",
    "        df['impactConfidence_BRCA1/2'] = df['impactConfidence_SBS3']\n",
    "        df['exomeConfidence_BRCA1/2'] = df['exomeConfidence_SBS3']\n",
    "        \n",
    "        #combine signatures\n",
    "        df['impactSig_AID/APOBEC'] = df['impactSig_SBS2'] + df['impactSig_SBS13']\n",
    "        df['exomeSig_AID/APOBEC'] = df['exomeSig_SBS2'] + df['exomeSig_SBS13']\n",
    "        \n",
    "        df['impactSig_SMOKING'] = df['impactSig_SBS4'] + df['impactSig_SBS24'] + df['impactSig_SBS29']\n",
    "        df['exomeSig_SMOKING'] = df['exomeSig_SBS4'] + df['exomeSig_SBS24'] + df['exomeSig_SBS29']\n",
    "        \n",
    "        df['impactSig_MMR/MSI'] = df['impactSig_SBS6'] + df['impactSig_SBS15'] + df['impactSig_SBS21'] + df['impactSig_SBS26']\n",
    "        df['exomeSig_MMR/MSI'] = df['exomeSig_SBS6'] + df['exomeSig_SBS15'] + df['exomeSig_SBS21'] + df['exomeSig_SBS26']\n",
    "        \n",
    "        df['impactSig_UV'] = df['impactSig_SBS7a'] + df['impactSig_SBS7b'] + df['impactSig_SBS7c'] + df['impactSig_SBS7d']\n",
    "        df['exomeSig_UV'] = df['exomeSig_SBS7a'] + df['exomeSig_SBS7b'] + df['exomeSig_SBS7c'] + df['exomeSig_SBS7d']\n",
    "        \n",
    "        df['impactSig_POLE'] = df['impactSig_SBS10a'] + df['impactSig_SBS10b']\n",
    "        df['exomeSig_POLE'] = df['exomeSig_SBS10a'] + df['exomeSig_SBS10b']\n",
    "        \n",
    "        df = df.drop(['impactSig_SBS1', 'exomeSig_SBS1',\n",
    "                      'impactSig_SBS3', 'exomeSig_SBS3',\n",
    "                      'impactSig_SBS4', 'impactSig_SBS24', 'impactSig_SBS29', 'exomeSig_SBS4', 'exomeSig_SBS24', 'exomeSig_SBS29',\n",
    "                      'impactSig_SBS2', 'impactSig_SBS13','exomeSig_SBS2', 'exomeSig_SBS13',\n",
    "                      'impactSig_SBS6', 'impactSig_SBS15', 'impactSig_SBS21', 'impactSig_SBS26','exomeSig_SBS6', 'exomeSig_SBS15', 'exomeSig_SBS21', 'exomeSig_SBS26',\n",
    "                      'impactSig_SBS7a', 'impactSig_SBS7b', 'impactSig_SBS7c', 'impactSig_SBS7d','exomeSig_SBS7a', 'exomeSig_SBS7b', 'exomeSig_SBS7c', 'exomeSig_SBS7d',\n",
    "                      'impactSig_SBS10a', 'impactSig_SBS10b', 'exomeSig_SBS10a', 'exomeSig_SBS10b',\n",
    "                     'impactConfidence_SBS3', 'exomeConfidence_SBS3'], \n",
    "            axis=1)\n",
    "        \n",
    "    return df\n",
    "\n",
    "\n",
    "\n",
    "def set_up_data(mode='30sigs'):\n",
    "    shwetaSigDataExome = pd.read_table('/Users/friedman/Desktop/TempoSampleLevel_WES.tsv')\n",
    "    shwetaSigDataImpact = pd.read_table('/Users/friedman/Desktop/TempoSampleLevel_IMPACT.tsv')\n",
    "\n",
    "    if mode == '30sigs':\n",
    "        shwetaSigDataExome['exomeSig'] = shwetaSigDataExome['Signatures']\n",
    "        shwetaSigDataImpact['impactSig'] = shwetaSigDataImpact['Signatures']\n",
    "    else:\n",
    "        shwetaSigDataExome['exomeSig'] = shwetaSigDataExome['SignaturesSBS60R2']\n",
    "        shwetaSigDataImpact['impactSig'] = shwetaSigDataImpact['SignaturesSBS60R2']\n",
    "\n",
    "    shwetaSigDataExome['type'] = 'Exome'\n",
    "    shwetaSigDataImpact['type'] = 'Impact'\n",
    "    shwetaSigData = pd.concat([shwetaSigDataExome, shwetaSigDataImpact])\n",
    "    \n",
    "    #expand the data frame to the format I want and mark dominant impact and exome signatures\n",
    "    expandedDf = expand_df(shwetaSigData, mode)\n",
    "    \n",
    "    expandedDf['DominantSignatureImpact'] = expandedDf.apply(lambda row: get_dominant_signature(row.to_dict(), prefix='impactSig'), axis=1)\n",
    "    expandedDf['DominantSignatureExome'] = expandedDf.apply(lambda row: get_dominant_signature(row.to_dict(), prefix='exomeSig'), axis=1)\n",
    "    return expandedDf\n",
    "\n",
    "\n",
    "#gets the dominant signature in a case\n",
    "def get_dominant_signature(rowAsDict, prefix='impactSig'):\n",
    "    cols = [x for x in rowAsDict.keys() if prefix in x]\n",
    "    tupList = []\n",
    "    for key, value in rowAsDict.items():\n",
    "        if prefix in key: tupList.append((key, value))\n",
    "    sortedSigs = sorted(tupList, key = lambda tup: tup[1], reverse=True)\n",
    "    \n",
    "    if math.isnan(sortedSigs[0][1]):\n",
    "        return 'notEnoughMutations'\n",
    "    else:\n",
    "        return sortedSigs[0][0]\n",
    "\n",
    "#returnMode spex\n",
    "#slightly a misnomer finds the nth biggest non signature of interest and returns it\n",
    "#n is 1 indexed for readability so we subtract 1\n",
    "def find_nth_biggest_non_primary_sig(row, primarySig, n, prefix='Signature.'):\n",
    "    colNames = row.to_dict().keys()\n",
    "\n",
    "    signatureColumns = [i for i in colNames if prefix in i]\n",
    "    rowSigsOnly = row[signatureColumns]\n",
    "    rowAsDict = rowSigsOnly.to_dict()\n",
    "    items = rowAsDict.items()\n",
    "    sortedItems = sorted(items, key=lambda x: x[1], reverse=True)\n",
    "\n",
    "    #remove the dominant signature\n",
    "    sortedItemsLimited = [z for z in sortedItems if z[0] != primarySig]\n",
    "    return sortedItemsLimited[n - 1][0], sortedItemsLimited[n - 1][1]\n",
    "\n",
    "def summarize_brca_sig_info(expandedDf, brcaBiallelicBRCARelated):\n",
    "    exomeDf = expandedDf[expandedDf['type'] == 'Exome']\n",
    "    impactDf = expandedDf[expandedDf['type'] == 'Impact']\n",
    "    \n",
    "    domSigImpactDict = dict(zip(impactDf['DMP'], impactDf['DominantSignatureImpact']))\n",
    "    impactBrcaConfidenceDict = dict(zip(impactDf['DMP'], impactDf['impactConfidence_BRCA1/2']))\n",
    "    impactBrcaSigDict = dict(zip(impactDf['DMP'], impactDf['impactSig_BRCA1/2']))\n",
    "    \n",
    "    domSigExomeDict = dict(zip(exomeDf['DMP'], exomeDf['DominantSignatureExome']))\n",
    "    exomeBrcaConfidenceDict = dict(zip(exomeDf['DMP'], exomeDf['exomeConfidence_BRCA1/2']))\n",
    "    exomeBrcaSigDict = dict(zip(exomeDf['DMP'], exomeDf['exomeSig_BRCA1/2']))\n",
    "    tmbDict = dict(zip(exomeDf['DMP'], exomeDf['TMB']))\n",
    "    \n",
    "    listOfDicts = []\n",
    "    #these are the methods we use to mark cases\n",
    "    \n",
    "    #print impactBrcaConfidenceDict\n",
    "    \n",
    "    methods = ['dominantImpactSig', 'confidentInImpact', 'presentInImpact']\n",
    "    for tsb in brcaBiallelicBRCARelated:\n",
    "        if tsb in domSigImpactDict and tsb in impactBrcaConfidenceDict and tsb in impactBrcaSigDict:\n",
    "            for method in methods:\n",
    "                detected = 0\n",
    "                if method == 'dominantImpactSig':\n",
    "                    if domSigImpactDict[tsb] == 'impactSig_BRCA1/2':\n",
    "                        detected = 1\n",
    "                elif method == 'confidentInImpact':\n",
    "                    if impactBrcaConfidenceDict[tsb] > .9:\n",
    "                        detected = 1\n",
    "                elif method == 'presentInImpact':\n",
    "                    if impactBrcaSigDict[tsb] > 0.2:\n",
    "                        detected = 1\n",
    "\n",
    "                listOfDicts.append({'Tumor_Sample_Barcode': tsb, 'method': method,\n",
    "                                       'detected': detected, 'TMB': tmbDict[tsb],\n",
    "                                       'impactSig_BRCA1/2': impactBrcaSigDict[tsb], 'impactConfidence_BRCA1/2': impactBrcaConfidenceDict[tsb],\n",
    "                                       'DominantSignatureImpact': domSigImpactDict[tsb],\n",
    "                                        'exomeConfidence_BRCA1.2': exomeBrcaConfidenceDict[tsb]})\n",
    "\n",
    "            \n",
    "    return pd.DataFrame(listOfDicts)\n"
   ]
  },
  {
   "cell_type": "code",
   "execution_count": 14,
   "metadata": {},
   "outputs": [
    {
     "name": "stderr",
     "output_type": "stream",
     "text": [
      "/anaconda2/lib/python2.7/site-packages/ipykernel_launcher.py:112: FutureWarning: read_table is deprecated, use read_csv instead, passing sep='\\t'.\n",
      "/anaconda2/lib/python2.7/site-packages/ipykernel_launcher.py:113: FutureWarning: read_table is deprecated, use read_csv instead, passing sep='\\t'.\n",
      "/anaconda2/lib/python2.7/site-packages/ipykernel_launcher.py:124: FutureWarning: Sorting because non-concatenation axis is not aligned. A future version\n",
      "of pandas will change to not sort by default.\n",
      "\n",
      "To accept the future behavior, pass 'sort=False'.\n",
      "\n",
      "To retain the current behavior and silence the warning, pass 'sort=True'.\n",
      "\n"
     ]
    },
    {
     "ename": "KeyError",
     "evalue": "'impactSig_AID/APOBEC_2'",
     "output_type": "error",
     "traceback": [
      "\u001b[0;31m---------------------------------------------------------------------------\u001b[0m",
      "\u001b[0;31mKeyError\u001b[0m                                  Traceback (most recent call last)",
      "\u001b[0;32m<ipython-input-14-c0cda989cea4>\u001b[0m in \u001b[0;36m<module>\u001b[0;34m()\u001b[0m\n\u001b[1;32m      2\u001b[0m \u001b[0;31m#60sigs takes a while\u001b[0m\u001b[0;34m\u001b[0m\u001b[0;34m\u001b[0m\u001b[0m\n\u001b[1;32m      3\u001b[0m \u001b[0;34m\u001b[0m\u001b[0m\n\u001b[0;32m----> 4\u001b[0;31m \u001b[0mdf30Sigs\u001b[0m \u001b[0;34m=\u001b[0m \u001b[0mset_up_data\u001b[0m\u001b[0;34m(\u001b[0m\u001b[0mmode\u001b[0m\u001b[0;34m=\u001b[0m\u001b[0;34m'30sigs'\u001b[0m\u001b[0;34m)\u001b[0m\u001b[0;34m\u001b[0m\u001b[0m\n\u001b[0m\u001b[1;32m      5\u001b[0m \u001b[0;31m#df60Sigs = set_up_data(mode='60sigs')\u001b[0m\u001b[0;34m\u001b[0m\u001b[0;34m\u001b[0m\u001b[0m\n\u001b[1;32m      6\u001b[0m \u001b[0;34m\u001b[0m\u001b[0m\n",
      "\u001b[0;32m<ipython-input-12-a881b99b2548>\u001b[0m in \u001b[0;36mset_up_data\u001b[0;34m(mode)\u001b[0m\n\u001b[1;32m    125\u001b[0m \u001b[0;34m\u001b[0m\u001b[0m\n\u001b[1;32m    126\u001b[0m     \u001b[0;31m#expand the data frame to the format I want and mark dominant impact and exome signatures\u001b[0m\u001b[0;34m\u001b[0m\u001b[0;34m\u001b[0m\u001b[0m\n\u001b[0;32m--> 127\u001b[0;31m     \u001b[0mexpandedDf\u001b[0m \u001b[0;34m=\u001b[0m \u001b[0mexpand_df\u001b[0m\u001b[0;34m(\u001b[0m\u001b[0mshwetaSigData\u001b[0m\u001b[0;34m,\u001b[0m \u001b[0mmode\u001b[0m\u001b[0;34m)\u001b[0m\u001b[0;34m\u001b[0m\u001b[0m\n\u001b[0m\u001b[1;32m    128\u001b[0m \u001b[0;34m\u001b[0m\u001b[0m\n\u001b[1;32m    129\u001b[0m     \u001b[0mexpandedDf\u001b[0m\u001b[0;34m[\u001b[0m\u001b[0;34m'DominantSignatureImpact'\u001b[0m\u001b[0;34m]\u001b[0m \u001b[0;34m=\u001b[0m \u001b[0mexpandedDf\u001b[0m\u001b[0;34m.\u001b[0m\u001b[0mapply\u001b[0m\u001b[0;34m(\u001b[0m\u001b[0;32mlambda\u001b[0m \u001b[0mrow\u001b[0m\u001b[0;34m:\u001b[0m \u001b[0mget_dominant_signature\u001b[0m\u001b[0;34m(\u001b[0m\u001b[0mrow\u001b[0m\u001b[0;34m.\u001b[0m\u001b[0mto_dict\u001b[0m\u001b[0;34m(\u001b[0m\u001b[0;34m)\u001b[0m\u001b[0;34m,\u001b[0m \u001b[0mprefix\u001b[0m\u001b[0;34m=\u001b[0m\u001b[0;34m'impactSig'\u001b[0m\u001b[0;34m)\u001b[0m\u001b[0;34m,\u001b[0m \u001b[0maxis\u001b[0m\u001b[0;34m=\u001b[0m\u001b[0;36m1\u001b[0m\u001b[0;34m)\u001b[0m\u001b[0;34m\u001b[0m\u001b[0m\n",
      "\u001b[0;32m<ipython-input-12-a881b99b2548>\u001b[0m in \u001b[0;36mexpand_df\u001b[0;34m(df, mode)\u001b[0m\n\u001b[1;32m     56\u001b[0m     \u001b[0;31m#MERGE SIGNATURE COLUMNS AS I LIKE:\u001b[0m\u001b[0;34m\u001b[0m\u001b[0;34m\u001b[0m\u001b[0m\n\u001b[1;32m     57\u001b[0m     \u001b[0;32mif\u001b[0m \u001b[0mmode\u001b[0m \u001b[0;34m==\u001b[0m \u001b[0;34m'30sigs'\u001b[0m\u001b[0;34m:\u001b[0m\u001b[0;34m\u001b[0m\u001b[0m\n\u001b[0;32m---> 58\u001b[0;31m         \u001b[0mdf\u001b[0m\u001b[0;34m[\u001b[0m\u001b[0;34m'impactSig_AID/APOBEC'\u001b[0m\u001b[0;34m]\u001b[0m \u001b[0;34m=\u001b[0m \u001b[0mdf\u001b[0m\u001b[0;34m[\u001b[0m\u001b[0;34m'impactSig_AID/APOBEC_2'\u001b[0m\u001b[0;34m]\u001b[0m \u001b[0;34m+\u001b[0m \u001b[0mdf\u001b[0m\u001b[0;34m[\u001b[0m\u001b[0;34m'impactSig_AID/APOBEC_13'\u001b[0m\u001b[0;34m]\u001b[0m\u001b[0;34m\u001b[0m\u001b[0m\n\u001b[0m\u001b[1;32m     59\u001b[0m         \u001b[0mdf\u001b[0m\u001b[0;34m[\u001b[0m\u001b[0;34m'exomeSig_AID/APOBEC'\u001b[0m\u001b[0;34m]\u001b[0m \u001b[0;34m=\u001b[0m \u001b[0mdf\u001b[0m\u001b[0;34m[\u001b[0m\u001b[0;34m'exomeSig_AID/APOBEC_2'\u001b[0m\u001b[0;34m]\u001b[0m \u001b[0;34m+\u001b[0m \u001b[0mdf\u001b[0m\u001b[0;34m[\u001b[0m\u001b[0;34m'exomeSig_AID/APOBEC_13'\u001b[0m\u001b[0;34m]\u001b[0m\u001b[0;34m\u001b[0m\u001b[0m\n\u001b[1;32m     60\u001b[0m \u001b[0;34m\u001b[0m\u001b[0m\n",
      "\u001b[0;32m/anaconda2/lib/python2.7/site-packages/pandas/core/frame.pyc\u001b[0m in \u001b[0;36m__getitem__\u001b[0;34m(self, key)\u001b[0m\n\u001b[1;32m   2925\u001b[0m             \u001b[0;32mif\u001b[0m \u001b[0mself\u001b[0m\u001b[0;34m.\u001b[0m\u001b[0mcolumns\u001b[0m\u001b[0;34m.\u001b[0m\u001b[0mnlevels\u001b[0m \u001b[0;34m>\u001b[0m \u001b[0;36m1\u001b[0m\u001b[0;34m:\u001b[0m\u001b[0;34m\u001b[0m\u001b[0m\n\u001b[1;32m   2926\u001b[0m                 \u001b[0;32mreturn\u001b[0m \u001b[0mself\u001b[0m\u001b[0;34m.\u001b[0m\u001b[0m_getitem_multilevel\u001b[0m\u001b[0;34m(\u001b[0m\u001b[0mkey\u001b[0m\u001b[0;34m)\u001b[0m\u001b[0;34m\u001b[0m\u001b[0m\n\u001b[0;32m-> 2927\u001b[0;31m             \u001b[0mindexer\u001b[0m \u001b[0;34m=\u001b[0m \u001b[0mself\u001b[0m\u001b[0;34m.\u001b[0m\u001b[0mcolumns\u001b[0m\u001b[0;34m.\u001b[0m\u001b[0mget_loc\u001b[0m\u001b[0;34m(\u001b[0m\u001b[0mkey\u001b[0m\u001b[0;34m)\u001b[0m\u001b[0;34m\u001b[0m\u001b[0m\n\u001b[0m\u001b[1;32m   2928\u001b[0m             \u001b[0;32mif\u001b[0m \u001b[0mis_integer\u001b[0m\u001b[0;34m(\u001b[0m\u001b[0mindexer\u001b[0m\u001b[0;34m)\u001b[0m\u001b[0;34m:\u001b[0m\u001b[0;34m\u001b[0m\u001b[0m\n\u001b[1;32m   2929\u001b[0m                 \u001b[0mindexer\u001b[0m \u001b[0;34m=\u001b[0m \u001b[0;34m[\u001b[0m\u001b[0mindexer\u001b[0m\u001b[0;34m]\u001b[0m\u001b[0;34m\u001b[0m\u001b[0m\n",
      "\u001b[0;32m/anaconda2/lib/python2.7/site-packages/pandas/core/indexes/base.pyc\u001b[0m in \u001b[0;36mget_loc\u001b[0;34m(self, key, method, tolerance)\u001b[0m\n\u001b[1;32m   2657\u001b[0m                 \u001b[0;32mreturn\u001b[0m \u001b[0mself\u001b[0m\u001b[0;34m.\u001b[0m\u001b[0m_engine\u001b[0m\u001b[0;34m.\u001b[0m\u001b[0mget_loc\u001b[0m\u001b[0;34m(\u001b[0m\u001b[0mkey\u001b[0m\u001b[0;34m)\u001b[0m\u001b[0;34m\u001b[0m\u001b[0m\n\u001b[1;32m   2658\u001b[0m             \u001b[0;32mexcept\u001b[0m \u001b[0mKeyError\u001b[0m\u001b[0;34m:\u001b[0m\u001b[0;34m\u001b[0m\u001b[0m\n\u001b[0;32m-> 2659\u001b[0;31m                 \u001b[0;32mreturn\u001b[0m \u001b[0mself\u001b[0m\u001b[0;34m.\u001b[0m\u001b[0m_engine\u001b[0m\u001b[0;34m.\u001b[0m\u001b[0mget_loc\u001b[0m\u001b[0;34m(\u001b[0m\u001b[0mself\u001b[0m\u001b[0;34m.\u001b[0m\u001b[0m_maybe_cast_indexer\u001b[0m\u001b[0;34m(\u001b[0m\u001b[0mkey\u001b[0m\u001b[0;34m)\u001b[0m\u001b[0;34m)\u001b[0m\u001b[0;34m\u001b[0m\u001b[0m\n\u001b[0m\u001b[1;32m   2660\u001b[0m         \u001b[0mindexer\u001b[0m \u001b[0;34m=\u001b[0m \u001b[0mself\u001b[0m\u001b[0;34m.\u001b[0m\u001b[0mget_indexer\u001b[0m\u001b[0;34m(\u001b[0m\u001b[0;34m[\u001b[0m\u001b[0mkey\u001b[0m\u001b[0;34m]\u001b[0m\u001b[0;34m,\u001b[0m \u001b[0mmethod\u001b[0m\u001b[0;34m=\u001b[0m\u001b[0mmethod\u001b[0m\u001b[0;34m,\u001b[0m \u001b[0mtolerance\u001b[0m\u001b[0;34m=\u001b[0m\u001b[0mtolerance\u001b[0m\u001b[0;34m)\u001b[0m\u001b[0;34m\u001b[0m\u001b[0m\n\u001b[1;32m   2661\u001b[0m         \u001b[0;32mif\u001b[0m \u001b[0mindexer\u001b[0m\u001b[0;34m.\u001b[0m\u001b[0mndim\u001b[0m \u001b[0;34m>\u001b[0m \u001b[0;36m1\u001b[0m \u001b[0;32mor\u001b[0m \u001b[0mindexer\u001b[0m\u001b[0;34m.\u001b[0m\u001b[0msize\u001b[0m \u001b[0;34m>\u001b[0m \u001b[0;36m1\u001b[0m\u001b[0;34m:\u001b[0m\u001b[0;34m\u001b[0m\u001b[0m\n",
      "\u001b[0;32mpandas/_libs/index.pyx\u001b[0m in \u001b[0;36mpandas._libs.index.IndexEngine.get_loc\u001b[0;34m()\u001b[0m\n",
      "\u001b[0;32mpandas/_libs/index.pyx\u001b[0m in \u001b[0;36mpandas._libs.index.IndexEngine.get_loc\u001b[0;34m()\u001b[0m\n",
      "\u001b[0;32mpandas/_libs/hashtable_class_helper.pxi\u001b[0m in \u001b[0;36mpandas._libs.hashtable.PyObjectHashTable.get_item\u001b[0;34m()\u001b[0m\n",
      "\u001b[0;32mpandas/_libs/hashtable_class_helper.pxi\u001b[0m in \u001b[0;36mpandas._libs.hashtable.PyObjectHashTable.get_item\u001b[0;34m()\u001b[0m\n",
      "\u001b[0;31mKeyError\u001b[0m: 'impactSig_AID/APOBEC_2'"
     ]
    }
   ],
   "source": [
    "#WE run the following analyses all in two separate modes: 30sigs and 60sigs\n",
    "#60sigs takes a while\n",
    "\n",
    "df30Sigs = set_up_data(mode='30sigs')\n",
    "#df60Sigs = set_up_data(mode='60sigs')\n",
    "\n",
    "#df30Sigs['impactConfidence_']"
   ]
  },
  {
   "cell_type": "code",
   "execution_count": 5,
   "metadata": {
    "scrolled": true
   },
   "outputs": [
    {
     "name": "stderr",
     "output_type": "stream",
     "text": [
      "/anaconda2/lib/python2.7/site-packages/ipykernel_launcher.py:1: FutureWarning: read_table is deprecated, use read_csv instead, passing sep='\\t'.\n",
      "  \"\"\"Entry point for launching an IPython kernel.\n"
     ]
    }
   ],
   "source": [
    "philipData = pd.read_table('/Users/friedman/Desktop/exomeProjectHelp/gray-june-exome-table.txt')\n",
    "brcaBiallelicBRCARelated = set(philipData[\n",
    "(philipData['biallelic_class'].isin(set(['Germline biallelic', 'Somatic biallelic'])))\n",
    "&(philipData['hrd_cancer'] == 'HRD')]['dmp_sample'])\n",
    "\n",
    "\n",
    "#brcaPlottingDf30 = summarize_brca_sig_info(df30Sigs, brcaBiallelicBRCARelated)\n",
    "#brcaPlottingDf60 = summarize_brca_sig_info(df60Sigs, brcaBiallelicBRCARelated)\n",
    "\n",
    "#df60Sigs"
   ]
  },
  {
   "cell_type": "code",
   "execution_count": 6,
   "metadata": {},
   "outputs": [
    {
     "data": {
      "text/plain": [
       "133"
      ]
     },
     "execution_count": 6,
     "metadata": {},
     "output_type": "execute_result"
    }
   ],
   "source": [
    "len(brcaBiallelicBRCARelated)\n",
    "#THIS NUMBER IS USED FOR PLOTTING"
   ]
  },
  {
   "cell_type": "code",
   "execution_count": 45,
   "metadata": {},
   "outputs": [],
   "source": [
    "\n",
    "#brcaPlottingDf30 = brcaPlottingDf30.fillna(0)\n",
    "#brcaPlottingDf30.to_csv('/Users/friedman/Desktop/exomeProjectHelp/data_3b_30sigs.tsv', index=False, sep='\\t')\n",
    "brcaPlottingDf60 = brcaPlottingDf60.fillna(0)\n",
    "brcaPlottingDf60.to_csv('/Users/friedman/Desktop/exomeProjectHelp/data_3b_60sigs.tsv', index=False, sep='\\t')\n"
   ]
  },
  {
   "cell_type": "markdown",
   "metadata": {},
   "source": [
    "## FIGURE 3C"
   ]
  },
  {
   "cell_type": "code",
   "execution_count": null,
   "metadata": {},
   "outputs": [],
   "source": []
  },
  {
   "cell_type": "markdown",
   "metadata": {},
   "source": [
    "## FIGURE 3D"
   ]
  },
  {
   "cell_type": "code",
   "execution_count": 76,
   "metadata": {},
   "outputs": [
    {
     "name": "stderr",
     "output_type": "stream",
     "text": [
      "/anaconda2/lib/python2.7/site-packages/ipykernel_launcher.py:6: SettingWithCopyWarning: \n",
      "A value is trying to be set on a copy of a slice from a DataFrame.\n",
      "Try using .loc[row_indexer,col_indexer] = value instead\n",
      "\n",
      "See the caveats in the documentation: http://pandas.pydata.org/pandas-docs/stable/indexing.html#indexing-view-versus-copy\n",
      "  \n",
      "/anaconda2/lib/python2.7/site-packages/ipykernel_launcher.py:8: SettingWithCopyWarning: \n",
      "A value is trying to be set on a copy of a slice from a DataFrame.\n",
      "Try using .loc[row_indexer,col_indexer] = value instead\n",
      "\n",
      "See the caveats in the documentation: http://pandas.pydata.org/pandas-docs/stable/indexing.html#indexing-view-versus-copy\n",
      "  \n"
     ]
    }
   ],
   "source": [
    "df = df60Sigs\n",
    "#df = df30Sigs\n",
    "impactDf = df[df['type'] == 'Impact']\n",
    "exomeDf = df[df['type'] == 'Exome']\n",
    "#Adjust the dominant signatures so that aflatoxin and signature 29 are marked as smoking\n",
    "impactDf['DominantSignatureImpact'] = impactDf['DominantSignatureImpact'].apply(lambda x: \n",
    "            'impactSig_Smoking' if x == 'impactSig_Tobacco_chewing' or x == 'impactSig_Aflatoxin' else x)\n",
    "exomeDf['DominantSignatureExome'] = exomeDf['DominantSignatureExome'].apply(lambda x: \n",
    "            'exomeSig_Smoking' if x == 'exomeSig_Tobacco_chewing' or x == 'exomeSig_Aflatoxin' else x)\n",
    "\n",
    "domImpactSigDict = dict(zip(impactDf['DMP'], impactDf['DominantSignatureImpact']))\n",
    "domExomeSigDict = dict(zip(exomeDf['DMP'], exomeDf['DominantSignatureExome']))\n",
    "\n"
   ]
  },
  {
   "cell_type": "code",
   "execution_count": 79,
   "metadata": {},
   "outputs": [],
   "source": [
    "df['dominantSignaturesAgree'] = df.apply(lambda row: \n",
    "    1 if domImpactSigDict[row['DMP']][10:] == domExomeSigDict[row['DMP']][9:]\n",
    "                                                         else 0, axis=1) \n",
    "df['highMutationBurden'] = df['TMB'].apply(lambda x: True if x >= 20 else False)\n",
    "#add a column for plotting dominant signature by marking many sigs as 'other'\n",
    "df['dominantSignature'] = df['DominantSignatureExome'].apply(lambda x:\n",
    "    x[9:] if x in set(['exomeSig_Aging', 'exomeSig_AID/APOBEC', 'exomeSig_BRCA1/2',\n",
    "                                    'exomeSig_SMOKING', 'exomeSig_MMR/MSI', 'exomeSig_UV'])\n",
    "                        else 'Other')"
   ]
  },
  {
   "cell_type": "code",
   "execution_count": 80,
   "metadata": {},
   "outputs": [],
   "source": [
    "df.to_csv('/Users/friedman/Desktop/exomeProjectHelp/data_3d_signatureConcordance_60Sigs.tsv', index=False, sep='\\t')\n",
    "\n",
    "#print df60Sigs[df60Sigs['exomeSig_AID/APOBEC'] > .3][['exomeSig_AID/APOBEC', 'TMB', 'DominantSignatureExome', 'exomeSig_MMR/MSI']]\n",
    "\n",
    "#print Counter(df['DominantSignatureExome'])\n",
    "#print set(df['dominantSignature'])\n",
    "\n",
    "#df[df['TMB'].isnull()]['DominantSignatureExome']\n",
    "\n",
    "#df60Sigs.columns.values\n",
    "#df60Sigs[['exomeSig_AID/APOBEC', 'TMB']]\n",
    "\n",
    "#max(df60Sigs[df60Sigs['TMB'].notnull() & (df60Sigs['impactSig_AID/APOBEC'].notnull())]['impactSig_AID/APOBEC'])\n",
    "#print df60Sigs[df60Sigs['impactSig_AID/APOBEC'].notnull()]['impactSig_AID/APOBEC']\n",
    "\n",
    "#df[(df['impactSig_AID/APOBEC'] > .1) & (df['TMB'].notnull())][['dominantSignature', 'DominantSignatureExome', 'TMB']]"
   ]
  },
  {
   "cell_type": "markdown",
   "metadata": {},
   "source": [
    "## FIGURE 3E"
   ]
  },
  {
   "cell_type": "markdown",
   "metadata": {},
   "source": [
    "## Additional figure: why sbs doesn't work"
   ]
  },
  {
   "cell_type": "code",
   "execution_count": 133,
   "metadata": {},
   "outputs": [],
   "source": [
    "df30Sigs = df30Sigs.fillna(0)\n",
    "df60Sigs = df60Sigs.fillna(0)\n",
    "df30SigsImpact = df30Sigs[df30Sigs['type'] == 'Impact']\n",
    "df30SigsExome = df30Sigs[df30Sigs['type'] == 'Exome']\n",
    "df60SigsImpact = df60Sigs[df60Sigs['type'] == 'Impact']\n",
    "df60SigsExome = df60Sigs[df60Sigs['type'] == 'Exome']\n",
    "\n",
    "sig3DictImpact = dict(zip(df30SigsImpact['DMP'], df30SigsImpact['impactSig_BRCA1/2']))\n",
    "sbs3DictImpact = dict(zip(df60SigsImpact['DMP'], df60SigsImpact['impactSig_BRCA1/2']))\n",
    "sbs39DictImpact = dict(zip(df60SigsImpact['DMP'], df60SigsImpact['impactSig_SBS39']))\n",
    "\n",
    "sig3DictExome = dict(zip(df30SigsExome['DMP'], df30SigsExome['exomeSig_BRCA1/2']))\n",
    "sbs3DictExome = dict(zip(df60SigsExome['DMP'], df60SigsExome['exomeSig_BRCA1/2']))\n",
    "sbs39DictExome = dict(zip(df60SigsExome['DMP'], df60SigsExome['exomeSig_SBS39']))\n",
    "\n",
    "listOfDicts = []\n",
    "for case in brcaBiallelicBRCARelated & set(df30Sigs['DMP']) & set(df60Sigs['DMP']):\n",
    "    listOfDicts.append({'type': 'IMPACT', 'val': sig3DictImpact[case], 'measure': '30sigs_sig3'})\n",
    "    listOfDicts.append({'type': 'IMPACT', 'val': sbs3DictImpact[case], 'measure': '60sigs_SBS3'})\n",
    "    listOfDicts.append({'type': 'IMPACT', 'val': sbs39DictImpact[case], 'measure': '60sigs_SBS39'})\n",
    "    \n",
    "    listOfDicts.append({'type': 'EXOME', 'val': sig3DictExome[case], 'measure': '30sigs_sig3'})\n",
    "    listOfDicts.append({'type': 'EXOME', 'val': sbs3DictExome[case], 'measure': '60sigs_SBS3'})\n",
    "    listOfDicts.append({'type': 'EXOME', 'val': sbs39DictExome[case], 'measure': '60sigs_SBS39'})\n",
    "    \n",
    "df = pd.DataFrame(listOfDicts)"
   ]
  },
  {
   "cell_type": "code",
   "execution_count": 134,
   "metadata": {},
   "outputs": [],
   "source": [
    "df.to_csv('/Users/friedman/Desktop/WORK/dataForLocalPlotting/signatureData.tsv', index=False, sep='\\t')"
   ]
  },
  {
   "cell_type": "code",
   "execution_count": 132,
   "metadata": {},
   "outputs": [
    {
     "data": {
      "text/plain": [
       "0        Exome\n",
       "1        Exome\n",
       "2        Exome\n",
       "3        Exome\n",
       "4        Exome\n",
       "5        Exome\n",
       "6        Exome\n",
       "7        Exome\n",
       "8        Exome\n",
       "9        Exome\n",
       "10       Exome\n",
       "11       Exome\n",
       "12       Exome\n",
       "13       Exome\n",
       "14       Exome\n",
       "15       Exome\n",
       "16       Exome\n",
       "17       Exome\n",
       "18       Exome\n",
       "19       Exome\n",
       "20       Exome\n",
       "21       Exome\n",
       "22       Exome\n",
       "23       Exome\n",
       "24       Exome\n",
       "25       Exome\n",
       "26       Exome\n",
       "27       Exome\n",
       "28       Exome\n",
       "29       Exome\n",
       "         ...  \n",
       "3242    Impact\n",
       "3243    Impact\n",
       "3244    Impact\n",
       "3245    Impact\n",
       "3246    Impact\n",
       "3247    Impact\n",
       "3248    Impact\n",
       "3249    Impact\n",
       "3250    Impact\n",
       "3251    Impact\n",
       "3252    Impact\n",
       "3253    Impact\n",
       "3254    Impact\n",
       "3255    Impact\n",
       "3256    Impact\n",
       "3257    Impact\n",
       "3258    Impact\n",
       "3259    Impact\n",
       "3260    Impact\n",
       "3261    Impact\n",
       "3262    Impact\n",
       "3263    Impact\n",
       "3264    Impact\n",
       "3265    Impact\n",
       "3266    Impact\n",
       "3267    Impact\n",
       "3268    Impact\n",
       "3269    Impact\n",
       "3270    Impact\n",
       "3271    Impact\n",
       "Name: type, Length: 3272, dtype: object"
      ]
     },
     "execution_count": 132,
     "metadata": {},
     "output_type": "execute_result"
    }
   ],
   "source": [
    "#[x for y,x in dict(zip(df30Sigs['DMP'], df30Sigs['exomeSig_BRCA1/2'])) if x > 0]\n",
    "#max(df30Sigs['exomeSig_BRCA1/2'])\n",
    "\n"
   ]
  },
  {
   "cell_type": "code",
   "execution_count": null,
   "metadata": {},
   "outputs": [],
   "source": []
  }
 ],
 "metadata": {
  "kernelspec": {
   "display_name": "Python 2",
   "language": "python",
   "name": "python2"
  },
  "language_info": {
   "codemirror_mode": {
    "name": "ipython",
    "version": 2
   },
   "file_extension": ".py",
   "mimetype": "text/x-python",
   "name": "python",
   "nbconvert_exporter": "python",
   "pygments_lexer": "ipython2",
   "version": "2.7.15"
  }
 },
 "nbformat": 4,
 "nbformat_minor": 2
}
